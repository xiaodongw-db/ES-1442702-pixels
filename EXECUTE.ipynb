{
 "cells": [
  {
   "cell_type": "code",
   "execution_count": 0,
   "metadata": {
    "application/vnd.databricks.v1+cell": {
     "cellMetadata": {
      "byteLimit": 2048000,
      "rowLimit": 10000
     },
     "inputWidgets": {},
     "nuid": "1288d0f5-224d-4138-8d0c-8403f17b50c9",
     "showTitle": false,
     "tableResultSettingsMap": {},
     "title": ""
    }
   },
   "outputs": [],
   "source": [
    "%sh \n",
    "# get repl vm cluster id\n",
    "cat /databricks/runtime/info.json"
   ]
  },
  {
   "cell_type": "code",
   "execution_count": 0,
   "metadata": {
    "application/vnd.databricks.v1+cell": {
     "cellMetadata": {
      "byteLimit": 2048000,
      "rowLimit": 10000
     },
     "inputWidgets": {},
     "nuid": "88ac9f68-18a4-46ae-8b0f-92afe27bd02f",
     "showTitle": false,
     "tableResultSettingsMap": {},
     "title": ""
    }
   },
   "outputs": [],
   "source": [
    "import socket\n",
    "\n",
    "# Get hostname\n",
    "hostname = socket.gethostname()\n",
    "\n",
    "# Get IP address (best effort; may return 127.0.0.1 if no network)\n",
    "ip_address = socket.gethostbyname(hostname)\n",
    "\n",
    "clusterId = spark.conf.get(\"spark.databricks.clusterUsageTags.clusterId\")\n",
    "\n",
    "print(f\"Hostname: {hostname}\")\n",
    "print(f\"IP Address: {ip_address}\")\n",
    "print(f\"Cluster ID: {clusterId}\" )"
   ]
  },
  {
   "cell_type": "code",
   "execution_count": 0,
   "metadata": {
    "application/vnd.databricks.v1+cell": {
     "cellMetadata": {
      "byteLimit": 2048000,
      "rowLimit": 10000
     },
     "inputWidgets": {},
     "nuid": "b45634fb-9aef-414f-aff7-ee14e198ae76",
     "showTitle": false,
     "tableResultSettingsMap": {},
     "title": ""
    }
   },
   "outputs": [],
   "source": [
    "from pyspark.sql.functions import udf, explode, col\n",
    "from pyspark.sql.types import StringType, ArrayType"
   ]
  },
  {
   "cell_type": "code",
   "execution_count": 0,
   "metadata": {
    "application/vnd.databricks.v1+cell": {
     "cellMetadata": {
      "byteLimit": 2048000,
      "rowLimit": 10000
     },
     "inputWidgets": {},
     "nuid": "85c9df73-ca6c-40ea-9667-ea944a6b56f0",
     "showTitle": false,
     "tableResultSettingsMap": {},
     "title": ""
    }
   },
   "outputs": [],
   "source": [
    "\n",
    "@udf\n",
    "def host_info():\n",
    "    import socket\n",
    "\n",
    "    # Get hostname\n",
    "    hostname = socket.gethostname()\n",
    "\n",
    "    # Get IP address (best effort; may return 127.0.0.1 if no network)\n",
    "    ip_address = socket.gethostbyname(hostname)\n",
    "    \n",
    "    return f\"hostname={hostname}, ip={ip_address}\"\n",
    "\n",
    "display(spark.range(10).withColumn(\"host_info\", host_info()))  "
   ]
  },
  {
   "cell_type": "code",
   "execution_count": 0,
   "metadata": {
    "application/vnd.databricks.v1+cell": {
     "cellMetadata": {
      "byteLimit": 2048000,
      "rowLimit": 10000
     },
     "inputWidgets": {},
     "nuid": "8b148854-21d3-4f9b-8bc6-f524aa9baf47",
     "showTitle": false,
     "tableResultSettingsMap": {},
     "title": ""
    }
   },
   "outputs": [],
   "source": [
    "# enable debug log on driver\n",
    "from pyspark.sql import functions as F\n",
    "from pyspark.sql.types import StructType, StructField, StringType\n",
    "\n",
    "# Create a 1-row DataFrame\n",
    "df = spark.createDataFrame([(\"dummy\",)], [\"col\"])\n",
    "\n",
    "# Define a Python function that captures driver info\n",
    "def get_driver_info(dummy):\n",
    "    import socket\n",
    "    hostname = socket.gethostname()\n",
    "    ip = socket.gethostbyname(hostname)\n",
    "\n",
    "    with open(\"/Workspace/.proc/self/flags/enable_debug_log\", \"w\") as f:\n",
    "        f.write(\"true\")\n",
    "    with open(\"/Workspace/.proc/self/flags/enable_debug_log\", \"r\") as f:\n",
    "        lines = \" \".join(f.readlines())\n",
    "\n",
    "    return f\"host={hostname}, ip={ip}, debug={lines}\"\n",
    "\n",
    "# Register it as a UDF\n",
    "get_driver_info_udf = F.udf(get_driver_info, StringType())\n",
    "\n",
    "# Apply the UDF\n",
    "df_with_info = df.withColumn(\"driver_info\", get_driver_info_udf(\"col\"))\n",
    "\n",
    "# Collect the result — if UDF runs in a single task, may execute on driver\n",
    "display(df_with_info.collect())"
   ]
  },
  {
   "cell_type": "code",
   "execution_count": 0,
   "metadata": {
    "application/vnd.databricks.v1+cell": {
     "cellMetadata": {
      "byteLimit": 2048000,
      "rowLimit": 10000
     },
     "inputWidgets": {},
     "nuid": "7f4fc72a-d81a-46f1-a388-a1c6da351681",
     "showTitle": false,
     "tableResultSettingsMap": {},
     "title": ""
    }
   },
   "outputs": [],
   "source": [
    "%sh\n",
    "\n",
    "# enable debug log for the repl vm\n",
    "echo \"true\" > /Workspace/.proc/self/flags/enable_debug_log\n",
    "cat /Workspace/.proc/self/flags/enable_debug_log"
   ]
  },
  {
   "cell_type": "code",
   "execution_count": 0,
   "metadata": {
    "application/vnd.databricks.v1+cell": {
     "cellMetadata": {
      "byteLimit": 2048000,
      "rowLimit": 10000
     },
     "inputWidgets": {},
     "nuid": "ac7f169b-7578-440c-9a2c-406cf1bb81a9",
     "showTitle": false,
     "tableResultSettingsMap": {},
     "title": ""
    }
   },
   "outputs": [],
   "source": [
    "%sh\n",
    "\n",
    "cat /Workspace/.proc/self/token | openssl enc -base64"
   ]
  },
  {
   "cell_type": "code",
   "execution_count": 0,
   "metadata": {
    "application/vnd.databricks.v1+cell": {
     "cellMetadata": {
      "byteLimit": 2048000,
      "rowLimit": 10000
     },
     "inputWidgets": {},
     "nuid": "54594163-028a-4fb3-8de2-e5bfd38d5182",
     "showTitle": false,
     "tableResultSettingsMap": {
      "0": {
       "dataGridStateBlob": "{\"version\":1,\"tableState\":{\"columnPinning\":{\"left\":[\"#row_number#\"],\"right\":[]},\"columnSizing\":{\"enable_debug_log\":1056},\"columnVisibility\":{}},\"settings\":{\"columns\":{}},\"syncTimestamp\":1749589904447}",
       "filterBlob": null,
       "queryPlanFiltersBlob": null,
       "tableResultIndex": 0
      }
     },
     "title": ""
    }
   },
   "outputs": [],
   "source": [
    "# enable debug log on all\n",
    "@udf\n",
    "def enable_debug_log():\n",
    "    import socket\n",
    "    hostname = socket.gethostname()\n",
    "    ip = socket.gethostbyname(hostname)\n",
    "\n",
    "    with open(\"/Workspace/.proc/self/flags/enable_debug_log\", \"w\") as f:\n",
    "        f.write(\"true\")\n",
    "    with open(\"/Workspace/.proc/self/flags/enable_debug_log\", \"r\") as f:\n",
    "        lines = \" \".join(f.readlines())\n",
    "\n",
    "    return f\"host={hostname}, ip={ip}, debug={lines}\"\n",
    "\n",
    "display(spark.range(50).withColumn(\"enable_debug_log\", enable_debug_log()))  "
   ]
  },
  {
   "cell_type": "code",
   "execution_count": 0,
   "metadata": {
    "application/vnd.databricks.v1+cell": {
     "cellMetadata": {
      "byteLimit": 2048000,
      "rowLimit": 10000
     },
     "inputWidgets": {},
     "nuid": "3735d4a9-c28e-483a-bafa-2b164e8ce100",
     "showTitle": false,
     "tableResultSettingsMap": {},
     "title": ""
    }
   },
   "outputs": [],
   "source": [
    "@udf(ArrayType(StringType()))\n",
    "def return_syspath():\n",
    "    import sys\n",
    "    return sys.path\n",
    "\n",
    "display(spark.range(1).withColumn(\"syspath\", explode(return_syspath())))"
   ]
  },
  {
   "cell_type": "code",
   "execution_count": 0,
   "metadata": {
    "application/vnd.databricks.v1+cell": {
     "cellMetadata": {
      "byteLimit": 2048000,
      "rowLimit": 10000
     },
     "inputWidgets": {},
     "nuid": "e21a5a99-8fff-47e3-9941-c2cc1150bd89",
     "showTitle": false,
     "tableResultSettingsMap": {},
     "title": ""
    }
   },
   "outputs": [],
   "source": [
    "import os\n",
    "\n",
    "@udf(ArrayType(StringType()))\n",
    "def return_info():\n",
    "    # read and return the content of file /Workspace/.proc/self/token\n",
    "    # with open('/databricks/init/info.json', 'r', encoding='utf-8') as file:\n",
    "    #    lines = file.readlines()\n",
    "    #return lines\n",
    "    #[spark.conf.get(\"spark.databricks.clusterUsageTags.clusterId\")]\n",
    "    return [f\"{key}={value}\" for key, value in os.environ.items()]\n",
    "\n",
    "display(spark.range(1).withColumn(\"token\", explode(return_info())))"
   ]
  },
  {
   "cell_type": "code",
   "execution_count": 0,
   "metadata": {
    "application/vnd.databricks.v1+cell": {
     "cellMetadata": {
      "byteLimit": 2048000,
      "rowLimit": 10000
     },
     "inputWidgets": {},
     "nuid": "29f128cf-dffc-4d89-af76-d8e5194bb76d",
     "showTitle": false,
     "tableResultSettingsMap": {},
     "title": ""
    }
   },
   "outputs": [],
   "source": [
    "@udf(ArrayType(StringType()))\n",
    "def return_token():\n",
    "    # read and return the content of file /Workspace/.proc/self/token\n",
    "    with open('/Workspace/.proc/self/token', 'r', encoding='utf-8') as file:\n",
    "        lines = file.readlines()\n",
    "    return lines\n",
    "\n",
    "display(spark.range(1).withColumn(\"token\", explode(return_token())))"
   ]
  },
  {
   "cell_type": "code",
   "execution_count": 0,
   "metadata": {
    "application/vnd.databricks.v1+cell": {
     "cellMetadata": {
      "byteLimit": 2048000,
      "rowLimit": 10000
     },
     "inputWidgets": {},
     "nuid": "d65fb869-d372-46a2-96a8-807dbe0b5ffb",
     "showTitle": false,
     "tableResultSettingsMap": {},
     "title": ""
    }
   },
   "outputs": [],
   "source": [
    "@udf(ArrayType(StringType()))\n",
    "def return_listdir_udf(folder):\n",
    "    import os\n",
    "    return os.listdir(folder)\n",
    "\n",
    "try:\n",
    "    display(spark.range(1)\n",
    "            .withColumn(\"syspath\", explode(return_syspath()))\n",
    "            .filter(\"syspath like '%Workspace%'\")\n",
    "            .withColumn(\"list_dir\", explode(return_listdir_udf(col(\"syspath\"))))\n",
    "            )\n",
    "except Exception as e:\n",
    "    print(e)  #print but ignore the error"
   ]
  },
  {
   "cell_type": "code",
   "execution_count": 0,
   "metadata": {
    "application/vnd.databricks.v1+cell": {
     "cellMetadata": {
      "byteLimit": 2048000,
      "rowLimit": 10000
     },
     "inputWidgets": {},
     "nuid": "59069e3e-02d1-40c5-b05d-ae8ea2cb4c09",
     "showTitle": false,
     "tableResultSettingsMap": {},
     "title": ""
    }
   },
   "outputs": [],
   "source": [
    "import subprocess\n",
    "\n",
    "@udf(ArrayType(StringType()))\n",
    "def return_service_logs():\n",
    "    # with open('/Workspace/.proc/self/logs/service', 'r', encoding='utf-8') as file:\n",
    "    #     lines = file.readlines()\n",
    "    # return lines\n",
    "    result = subprocess.run(\n",
    "        ['cat', '/Workspace/.proc/self/logs/service'],                # command and arguments\n",
    "        stdout=subprocess.PIPE,      # capture stdout\n",
    "        stderr=subprocess.PIPE,      # capture stderr (optional)\n",
    "        text=True                    # decode bytes to str\n",
    "    )\n",
    "    lines = result.stdout.splitlines()\n",
    "    return lines\n",
    "\n",
    "display(spark.range(1).withColumn(\"logs\", explode(return_service_logs())))"
   ]
  },
  {
   "cell_type": "code",
   "execution_count": 0,
   "metadata": {
    "application/vnd.databricks.v1+cell": {
     "cellMetadata": {
      "byteLimit": 2048000,
      "rowLimit": 10000
     },
     "inputWidgets": {},
     "nuid": "0b0fc09f-be6c-4f51-9140-1dfb8f48f469",
     "showTitle": false,
     "tableResultSettingsMap": {},
     "title": ""
    }
   },
   "outputs": [],
   "source": [
    "import subprocess\n",
    "\n",
    "@udf(ArrayType(StringType()))\n",
    "def return_usage_logs():\n",
    "    # with open('/Workspace/.proc/self/logs/service', 'r', encoding='utf-8') as file:\n",
    "    #     lines = file.readlines()\n",
    "    # return lines\n",
    "    result = subprocess.run(\n",
    "        ['cat', '/Workspace/.proc/self/logs/usage'],                # command and arguments\n",
    "        stdout=subprocess.PIPE,      # capture stdout\n",
    "        stderr=subprocess.PIPE,      # capture stderr (optional)\n",
    "        text=True                    # decode bytes to str\n",
    "    )\n",
    "    lines = result.stdout.splitlines()\n",
    "    return lines\n",
    "\n",
    "display(spark.range(1).withColumn(\"logs\", explode(return_usage_logs())))"
   ]
  },
  {
   "cell_type": "code",
   "execution_count": 0,
   "metadata": {
    "application/vnd.databricks.v1+cell": {
     "cellMetadata": {
      "byteLimit": 2048000,
      "rowLimit": 10000
     },
     "inputWidgets": {},
     "nuid": "209cfcc3-6734-438b-b627-a14c53c08fb9",
     "showTitle": false,
     "tableResultSettingsMap": {},
     "title": ""
    }
   },
   "outputs": [],
   "source": [
    "%sh\n",
    "\n",
    "cat /Workspace/.proc/self/logs/service"
   ]
  },
  {
   "cell_type": "code",
   "execution_count": 0,
   "metadata": {
    "application/vnd.databricks.v1+cell": {
     "cellMetadata": {
      "byteLimit": 2048000,
      "rowLimit": 10000
     },
     "inputWidgets": {},
     "nuid": "65f6594f-eeaf-4f1e-a685-80e74785e354",
     "showTitle": false,
     "tableResultSettingsMap": {},
     "title": ""
    }
   },
   "outputs": [],
   "source": [
    "%sh\n",
    "\n",
    "cat /Workspace/.proc/self/logs/usage"
   ]
  },
  {
   "cell_type": "code",
   "execution_count": 0,
   "metadata": {
    "application/vnd.databricks.v1+cell": {
     "cellMetadata": {
      "byteLimit": 2048000,
      "rowLimit": 10000
     },
     "inputWidgets": {},
     "nuid": "e4ebfb16-4931-4dc9-8d4e-00804e954853",
     "showTitle": false,
     "tableResultSettingsMap": {},
     "title": ""
    }
   },
   "outputs": [],
   "source": [
    "%sh\n",
    "\n",
    "# sleep for 1hr to hold the cluster, so we can login and check logs\n",
    "sleep 3600"
   ]
  }
 ],
 "metadata": {
  "application/vnd.databricks.v1+notebook": {
   "computePreferences": null,
   "dashboards": [],
   "environmentMetadata": {
    "base_environment": "",
    "environment_version": "2"
   },
   "inputWidgetPreferences": null,
   "language": "python",
   "notebookMetadata": {
    "mostRecentlyExecutedCommandWithImplicitDF": {
     "commandId": 7644958886412972,
     "dataframes": [
      "_sqldf"
     ]
    },
    "pythonIndentUnit": 2
   },
   "notebookName": "EXECUTE",
   "widgets": {}
  },
  "language_info": {
   "name": "python"
  }
 },
 "nbformat": 4,
 "nbformat_minor": 0
}
