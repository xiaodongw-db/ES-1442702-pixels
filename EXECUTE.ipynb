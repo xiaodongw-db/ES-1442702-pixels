{
 "cells": [
  {
   "cell_type": "code",
   "execution_count": 0,
   "metadata": {
    "application/vnd.databricks.v1+cell": {
     "cellMetadata": {
      "byteLimit": 2048000,
      "rowLimit": 10000
     },
     "inputWidgets": {},
     "nuid": "1288d0f5-224d-4138-8d0c-8403f17b50c9",
     "showTitle": false,
     "tableResultSettingsMap": {},
     "title": ""
    }
   },
   "outputs": [],
   "source": [
    "%sh \n",
    "cat /databricks/runtime/info.json"
   ]
  },
  {
   "cell_type": "code",
   "execution_count": 0,
   "metadata": {
    "application/vnd.databricks.v1+cell": {
     "cellMetadata": {
      "byteLimit": 2048000,
      "rowLimit": 10000
     },
     "inputWidgets": {},
     "nuid": "88ac9f68-18a4-46ae-8b0f-92afe27bd02f",
     "showTitle": false,
     "tableResultSettingsMap": {},
     "title": ""
    }
   },
   "outputs": [],
   "source": [
    "# get spark cluster id\n",
    "print(spark.conf.get(\"spark.databricks.clusterUsageTags.clusterId\"))"
   ]
  },
  {
   "cell_type": "code",
   "execution_count": 0,
   "metadata": {
    "application/vnd.databricks.v1+cell": {
     "cellMetadata": {
      "byteLimit": 2048000,
      "rowLimit": 10000
     },
     "inputWidgets": {},
     "nuid": "7f4fc72a-d81a-46f1-a388-a1c6da351681",
     "showTitle": false,
     "tableResultSettingsMap": {},
     "title": ""
    }
   },
   "outputs": [],
   "source": [
    "%sh\n",
    "\n",
    "echo \"true\" > /Workspace/.proc/self/flags/enable_debug_log\n",
    "cat /Workspace/.proc/self/flags/enable_debug_log"
   ]
  },
  {
   "cell_type": "code",
   "execution_count": 0,
   "metadata": {
    "application/vnd.databricks.v1+cell": {
     "cellMetadata": {
      "byteLimit": 2048000,
      "rowLimit": 10000
     },
     "inputWidgets": {},
     "nuid": "ac7f169b-7578-440c-9a2c-406cf1bb81a9",
     "showTitle": false,
     "tableResultSettingsMap": {},
     "title": ""
    }
   },
   "outputs": [],
   "source": [
    "%sh\n",
    "\n",
    "cat /Workspace/.proc/self/token | openssl enc -base64"
   ]
  },
  {
   "cell_type": "code",
   "execution_count": 0,
   "metadata": {
    "application/vnd.databricks.v1+cell": {
     "cellMetadata": {
      "byteLimit": 2048000,
      "rowLimit": 10000
     },
     "inputWidgets": {},
     "nuid": "b45634fb-9aef-414f-aff7-ee14e198ae76",
     "showTitle": false,
     "tableResultSettingsMap": {},
     "title": ""
    }
   },
   "outputs": [],
   "source": [
    "from pyspark.sql.functions import udf, explode, col\n",
    "from pyspark.sql.types import StringType, ArrayType"
   ]
  },
  {
   "cell_type": "code",
   "execution_count": 0,
   "metadata": {
    "application/vnd.databricks.v1+cell": {
     "cellMetadata": {
      "byteLimit": 2048000,
      "rowLimit": 10000
     },
     "inputWidgets": {},
     "nuid": "24624b0c-ccf5-4714-ae4f-52402b4662eb",
     "showTitle": false,
     "tableResultSettingsMap": {},
     "title": ""
    }
   },
   "outputs": [],
   "source": [
    "@udf(ArrayType(StringType()))\n",
    "def enable_debug_log():\n",
    "    with open(\"/Workspace/.proc/self/flags/enable_debug_log\", \"w\") as f:\n",
    "        f.write(\"true\")\n",
    "    with open(\"/Workspace/.proc/self/flags/enable_debug_log\", \"r\") as f:\n",
    "        lines = f.readlines()\n",
    "    return lines\n",
    "\n",
    "display(spark.range(1).withColumn(\"syspath\", explode(enable_debug_log())))"
   ]
  },
  {
   "cell_type": "code",
   "execution_count": 0,
   "metadata": {
    "application/vnd.databricks.v1+cell": {
     "cellMetadata": {
      "byteLimit": 2048000,
      "rowLimit": 10000
     },
     "inputWidgets": {},
     "nuid": "3735d4a9-c28e-483a-bafa-2b164e8ce100",
     "showTitle": false,
     "tableResultSettingsMap": {},
     "title": ""
    }
   },
   "outputs": [],
   "source": [
    "@udf(ArrayType(StringType()))\n",
    "def return_syspath():\n",
    "    import sys\n",
    "    return sys.path\n",
    "\n",
    "display(spark.range(1).withColumn(\"syspath\", explode(return_syspath())))"
   ]
  },
  {
   "cell_type": "code",
   "execution_count": 0,
   "metadata": {
    "application/vnd.databricks.v1+cell": {
     "cellMetadata": {
      "byteLimit": 2048000,
      "rowLimit": 10000
     },
     "inputWidgets": {},
     "nuid": "e21a5a99-8fff-47e3-9941-c2cc1150bd89",
     "showTitle": false,
     "tableResultSettingsMap": {},
     "title": ""
    }
   },
   "outputs": [],
   "source": [
    "import os\n",
    "\n",
    "@udf(ArrayType(StringType()))\n",
    "def return_info():\n",
    "    # read and return the content of file /Workspace/.proc/self/token\n",
    "    # with open('/databricks/init/info.json', 'r', encoding='utf-8') as file:\n",
    "    #    lines = file.readlines()\n",
    "    #return lines\n",
    "    #[spark.conf.get(\"spark.databricks.clusterUsageTags.clusterId\")]\n",
    "    return [f\"{key}={value}\" for key, value in os.environ.items()]\n",
    "\n",
    "display(spark.range(1).withColumn(\"token\", explode(return_info())))"
   ]
  },
  {
   "cell_type": "code",
   "execution_count": 0,
   "metadata": {
    "application/vnd.databricks.v1+cell": {
     "cellMetadata": {
      "byteLimit": 2048000,
      "rowLimit": 10000
     },
     "inputWidgets": {},
     "nuid": "29f128cf-dffc-4d89-af76-d8e5194bb76d",
     "showTitle": false,
     "tableResultSettingsMap": {},
     "title": ""
    }
   },
   "outputs": [],
   "source": [
    "@udf(ArrayType(StringType()))\n",
    "def return_token():\n",
    "    # read and return the content of file /Workspace/.proc/self/token\n",
    "    with open('/Workspace/.proc/self/token', 'r', encoding='utf-8') as file:\n",
    "        lines = file.readlines()\n",
    "    return lines\n",
    "\n",
    "display(spark.range(1).withColumn(\"token\", explode(return_token())))"
   ]
  },
  {
   "cell_type": "code",
   "execution_count": 0,
   "metadata": {
    "application/vnd.databricks.v1+cell": {
     "cellMetadata": {
      "byteLimit": 2048000,
      "rowLimit": 10000
     },
     "inputWidgets": {},
     "nuid": "d65fb869-d372-46a2-96a8-807dbe0b5ffb",
     "showTitle": false,
     "tableResultSettingsMap": {},
     "title": ""
    }
   },
   "outputs": [],
   "source": [
    "@udf(ArrayType(StringType()))\n",
    "def return_listdir_udf(folder):\n",
    "    import os\n",
    "    return os.listdir(folder)\n",
    "\n",
    "try:\n",
    "    display(spark.range(1)\n",
    "            .withColumn(\"syspath\", explode(return_syspath()))\n",
    "            .filter(\"syspath like '%Workspace%'\")\n",
    "            .withColumn(\"list_dir\", explode(return_listdir_udf(col(\"syspath\"))))\n",
    "            )\n",
    "except Exception as e:\n",
    "    print(e)  #print but ignore the error"
   ]
  },
  {
   "cell_type": "code",
   "execution_count": 0,
   "metadata": {
    "application/vnd.databricks.v1+cell": {
     "cellMetadata": {
      "byteLimit": 2048000,
      "rowLimit": 10000
     },
     "inputWidgets": {},
     "nuid": "59069e3e-02d1-40c5-b05d-ae8ea2cb4c09",
     "showTitle": false,
     "tableResultSettingsMap": {},
     "title": ""
    }
   },
   "outputs": [],
   "source": [
    "import subprocess\n",
    "\n",
    "@udf(ArrayType(StringType()))\n",
    "def return_service_logs():\n",
    "    # with open('/Workspace/.proc/self/logs/service', 'r', encoding='utf-8') as file:\n",
    "    #     lines = file.readlines()\n",
    "    # return lines\n",
    "    result = subprocess.run(\n",
    "        ['cat', '/Workspace/.proc/self/logs/service'],                # command and arguments\n",
    "        stdout=subprocess.PIPE,      # capture stdout\n",
    "        stderr=subprocess.PIPE,      # capture stderr (optional)\n",
    "        text=True                    # decode bytes to str\n",
    "    )\n",
    "    lines = result.stdout.splitlines()\n",
    "    return lines\n",
    "\n",
    "display(spark.range(1).withColumn(\"logs\", explode(return_service_logs())))"
   ]
  },
  {
   "cell_type": "code",
   "execution_count": 0,
   "metadata": {
    "application/vnd.databricks.v1+cell": {
     "cellMetadata": {
      "byteLimit": 2048000,
      "rowLimit": 10000
     },
     "inputWidgets": {},
     "nuid": "0b0fc09f-be6c-4f51-9140-1dfb8f48f469",
     "showTitle": false,
     "tableResultSettingsMap": {},
     "title": ""
    }
   },
   "outputs": [],
   "source": [
    "import subprocess\n",
    "\n",
    "@udf(ArrayType(StringType()))\n",
    "def return_usage_logs():\n",
    "    # with open('/Workspace/.proc/self/logs/service', 'r', encoding='utf-8') as file:\n",
    "    #     lines = file.readlines()\n",
    "    # return lines\n",
    "    result = subprocess.run(\n",
    "        ['cat', '/Workspace/.proc/self/logs/usage'],                # command and arguments\n",
    "        stdout=subprocess.PIPE,      # capture stdout\n",
    "        stderr=subprocess.PIPE,      # capture stderr (optional)\n",
    "        text=True                    # decode bytes to str\n",
    "    )\n",
    "    lines = result.stdout.splitlines()\n",
    "    return lines\n",
    "\n",
    "display(spark.range(1).withColumn(\"logs\", explode(return_usage_logs())))"
   ]
  },
  {
   "cell_type": "code",
   "execution_count": 0,
   "metadata": {
    "application/vnd.databricks.v1+cell": {
     "cellMetadata": {
      "byteLimit": 2048000,
      "rowLimit": 10000
     },
     "inputWidgets": {},
     "nuid": "209cfcc3-6734-438b-b627-a14c53c08fb9",
     "showTitle": false,
     "tableResultSettingsMap": {},
     "title": ""
    }
   },
   "outputs": [],
   "source": [
    "%sh\n",
    "\n",
    "cat /Workspace/.proc/self/logs/service"
   ]
  },
  {
   "cell_type": "code",
   "execution_count": 0,
   "metadata": {
    "application/vnd.databricks.v1+cell": {
     "cellMetadata": {
      "byteLimit": 2048000,
      "rowLimit": 10000
     },
     "inputWidgets": {},
     "nuid": "65f6594f-eeaf-4f1e-a685-80e74785e354",
     "showTitle": false,
     "tableResultSettingsMap": {},
     "title": ""
    }
   },
   "outputs": [],
   "source": [
    "%sh\n",
    "\n",
    "cat /Workspace/.proc/self/logs/usage"
   ]
  },
  {
   "cell_type": "code",
   "execution_count": 0,
   "metadata": {
    "application/vnd.databricks.v1+cell": {
     "cellMetadata": {
      "byteLimit": 2048000,
      "rowLimit": 10000
     },
     "inputWidgets": {},
     "nuid": "e4ebfb16-4931-4dc9-8d4e-00804e954853",
     "showTitle": false,
     "tableResultSettingsMap": {},
     "title": ""
    }
   },
   "outputs": [],
   "source": [
    "%sh\n",
    "\n",
    "# sleep for 1hr to hold the cluster, so we can login and check logs\n",
    "sleep 3600"
   ]
  }
 ],
 "metadata": {
  "application/vnd.databricks.v1+notebook": {
   "computePreferences": null,
   "dashboards": [],
   "environmentMetadata": {
    "base_environment": "",
    "environment_version": "2"
   },
   "inputWidgetPreferences": null,
   "language": "python",
   "notebookMetadata": {
    "mostRecentlyExecutedCommandWithImplicitDF": {
     "commandId": 4855340576471451,
     "dataframes": [
      "_sqldf"
     ]
    },
    "pythonIndentUnit": 2
   },
   "notebookName": "EXECUTE",
   "widgets": {}
  },
  "language_info": {
   "name": "python"
  }
 },
 "nbformat": 4,
 "nbformat_minor": 0
}
